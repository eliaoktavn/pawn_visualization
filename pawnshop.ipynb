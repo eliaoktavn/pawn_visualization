{
 "cells": [
  {
   "cell_type": "markdown",
   "metadata": {},
   "source": [
    "# Pawnshop Data Analytics"
   ]
  },
  {
   "cell_type": "markdown",
   "metadata": {},
   "source": [
    "### Import Library"
   ]
  },
  {
   "cell_type": "code",
   "execution_count": 45,
   "metadata": {},
   "outputs": [],
   "source": [
    "import pandas as pd\n",
    "import random\n",
    "import faker\n",
    "import csv\n",
    "from datetime import datetime, timedelta\n",
    "\n",
    "import matplotlib.pyplot as plt"
   ]
  },
  {
   "cell_type": "markdown",
   "metadata": {},
   "source": [
    "### Generate Dummy Data"
   ]
  },
  {
   "cell_type": "code",
   "execution_count": 26,
   "metadata": {},
   "outputs": [],
   "source": [
    "fake = faker.Faker()"
   ]
  },
  {
   "cell_type": "code",
   "execution_count": 27,
   "metadata": {},
   "outputs": [],
   "source": [
    "# Generate random customer data\n",
    "def generate_customer():\n",
    "    return {\n",
    "        'Customer ID': fake.random_number(digits=4),\n",
    "        'Name': fake.name(),\n",
    "        'Date of Birth': fake.date_of_birth(minimum_age=18, maximum_age=90).strftime('%Y-%m-%d'),\n",
    "        'Employment Information': fake.company(),\n",
    "        'Notes/Comments': fake.text()\n",
    "    }\n",
    "\n",
    "# Generate random item data\n",
    "def generate_item():\n",
    "    return {\n",
    "        'Item ID': fake.random_number(digits=4),\n",
    "        'Description': fake.word() + ' ' + fake.word(),\n",
    "        'Category': random.choice(['Electronics', 'Jewelry', 'Musical Instruments', 'Tools', 'Collectibles']),\n",
    "        'Brand': fake.company(),\n",
    "        'Model': fake.word(),\n",
    "        'Condition': random.choice(['New', 'Used', 'Refurbished']),\n",
    "        'Original Purchase Price': round(random.uniform(50, 1000), 2),\n",
    "        'Pawned/Sold Price': round(random.uniform(20, 500), 2),\n",
    "        'Date Pawned/Sold': (datetime.now() - timedelta(days=random.randint(1, 365))).strftime('%Y-%m-%d'),\n",
    "        'Pawn Ticket/Receipt Number': 'PT' + str(fake.random_number(digits=10)),\n",
    "        'Appraised Value': round(random.uniform(50, 1000), 2),\n",
    "        'Comments/Notes': fake.text()\n",
    "    }\n",
    "\n",
    "# Generate random transaction data\n",
    "def generate_transaction():\n",
    "    return {\n",
    "        'Transaction ID': fake.random_number(digits=4),\n",
    "        'Customer ID': fake.random_number(digits=4),\n",
    "        'Item ID(s)': fake.random_number(digits=4),\n",
    "        'Transaction Type': random.choice(['Pawn', 'Buy', 'Sell', 'Redeem']),\n",
    "        'Transaction Date/Time': fake.date_time_this_decade().strftime('%Y-%m-%d %H:%M:%S'),\n",
    "        'Total Transaction Amount': round(random.uniform(10, 1000), 2),\n",
    "        'Payment Method': random.choice(['Cash', 'Credit Card', 'Debit Card']),\n",
    "        'Employee ID': fake.random_number(digits=4),\n",
    "        'Comments/Notes': fake.text()\n",
    "    }\n",
    "\n",
    "# Generate random employee data\n",
    "def generate_employee():\n",
    "    return {\n",
    "        'Employee ID': fake.random_number(digits=4),\n",
    "        'Name': fake.name(),\n",
    "        'Date of Birth': fake.date_of_birth(minimum_age=18, maximum_age=70).strftime('%Y-%m-%d'),\n",
    "        'Employment Start Date': fake.date_this_decade().strftime('%Y-%m-%d'),\n",
    "        'Position/Title': random.choice(['Manager', 'Pawnbroker', 'Sales Associate']),\n",
    "        'Hourly Wage/Salary': round(random.uniform(10, 30), 2),\n",
    "        'Manager': fake.name(),\n",
    "        'Notes/Comments': fake.text()\n",
    "    }"
   ]
  },
  {
   "cell_type": "code",
   "execution_count": 28,
   "metadata": {},
   "outputs": [],
   "source": [
    "# Generate dummy data and save to CSV\n",
    "def generate_dummy_data_to_csv():\n",
    "    customer_data = [generate_customer() for _ in range(1000)]\n",
    "    item_data = [generate_item() for _ in range(1000)]\n",
    "    transaction_data = [generate_transaction() for _ in range(1000)]\n",
    "    employee_data = [generate_employee() for _ in range(1000)]\n",
    "\n",
    "    # Write to CSV files\n",
    "    with open('customer_data.csv', 'w', newline='', encoding='utf-8') as f:\n",
    "        writer = csv.DictWriter(f, fieldnames=customer_data[0].keys())\n",
    "        writer.writeheader()\n",
    "        writer.writerows(customer_data)\n",
    "\n",
    "    with open('item_data.csv', 'w', newline='', encoding='utf-8') as f:\n",
    "        writer = csv.DictWriter(f, fieldnames=item_data[0].keys())\n",
    "        writer.writeheader()\n",
    "        writer.writerows(item_data)\n",
    "\n",
    "    with open('transaction_data.csv', 'w', newline='', encoding='utf-8') as f:\n",
    "        writer = csv.DictWriter(f, fieldnames=transaction_data[0].keys())\n",
    "        writer.writeheader()\n",
    "        writer.writerows(transaction_data)\n",
    "\n",
    "    with open('employee_data.csv', 'w', newline='', encoding='utf-8') as f:\n",
    "        writer = csv.DictWriter(f, fieldnames=employee_data[0].keys())\n",
    "        writer.writeheader()\n",
    "        writer.writerows(employee_data)\n",
    "\n",
    "generate_dummy_data_to_csv()"
   ]
  },
  {
   "cell_type": "code",
   "execution_count": null,
   "metadata": {},
   "outputs": [],
   "source": [
    "def generate_pawnshop():\n",
    "    return {\n",
    "        'Customer ID': fake.random_number(digits=4),\n",
    "        'Name': fake.name(),\n",
    "        'Date of Birth': fake.date_of_birth(minimum_age=18, maximum_age=90).strftime('%Y-%m-%d'),\n",
    "        'Category': random.choice(['Electronics', 'Jewelry', 'Musical Instruments', 'Tools', 'Collectibles']),\n",
    "        'Brand': fake.company(),\n",
    "        'Condition': random.choice(['New', 'Used', 'Refurbished']),\n",
    "        'Original Purchase Price': round(random.uniform(50, 1000), 2),\n",
    "        'Pawned/Sold Price': round(random.uniform(20, 500), 2),\n",
    "        'Date Pawned/Sold': (datetime.now() - timedelta(days=random.randint(1, 365))).strftime('%Y-%m-%d'),\n",
    "        'Pawn Ticket/Receipt Number': 'PT' + str(fake.random_number(digits=10)),\n",
    "        'Appraised Value': round(random.uniform(50, 1000), 2),\n",
    "    }"
   ]
  },
  {
   "cell_type": "markdown",
   "metadata": {},
   "source": [
    "### Data Loading"
   ]
  },
  {
   "cell_type": "code",
   "execution_count": 29,
   "metadata": {},
   "outputs": [],
   "source": [
    "df_customer = pd.read_csv('customer_data.csv')\n",
    "df_employee = pd.read_csv('employee_data.csv')\n",
    "df_item = pd.read_csv('item_data.csv')\n",
    "df_transaction = pd.read_csv('transaction_data.csv')"
   ]
  },
  {
   "cell_type": "markdown",
   "metadata": {},
   "source": [
    "## Quick Overview Dataframes"
   ]
  },
  {
   "cell_type": "code",
   "execution_count": 30,
   "metadata": {},
   "outputs": [
    {
     "data": {
      "text/html": [
       "<div>\n",
       "<style scoped>\n",
       "    .dataframe tbody tr th:only-of-type {\n",
       "        vertical-align: middle;\n",
       "    }\n",
       "\n",
       "    .dataframe tbody tr th {\n",
       "        vertical-align: top;\n",
       "    }\n",
       "\n",
       "    .dataframe thead th {\n",
       "        text-align: right;\n",
       "    }\n",
       "</style>\n",
       "<table border=\"1\" class=\"dataframe\">\n",
       "  <thead>\n",
       "    <tr style=\"text-align: right;\">\n",
       "      <th></th>\n",
       "      <th>Customer ID</th>\n",
       "      <th>Name</th>\n",
       "      <th>Date of Birth</th>\n",
       "      <th>Employment Information</th>\n",
       "      <th>Notes/Comments</th>\n",
       "    </tr>\n",
       "  </thead>\n",
       "  <tbody>\n",
       "    <tr>\n",
       "      <th>0</th>\n",
       "      <td>1161</td>\n",
       "      <td>Ashlee Vega</td>\n",
       "      <td>1933-09-24</td>\n",
       "      <td>Solomon, Spears and Johnson</td>\n",
       "      <td>System concern public according others today s...</td>\n",
       "    </tr>\n",
       "    <tr>\n",
       "      <th>1</th>\n",
       "      <td>1107</td>\n",
       "      <td>Patrick Williams</td>\n",
       "      <td>1966-05-05</td>\n",
       "      <td>Harris and Sons</td>\n",
       "      <td>Score read available administration fear all. ...</td>\n",
       "    </tr>\n",
       "    <tr>\n",
       "      <th>2</th>\n",
       "      <td>5352</td>\n",
       "      <td>Ronald Anderson</td>\n",
       "      <td>1960-08-23</td>\n",
       "      <td>Hall-White</td>\n",
       "      <td>Stand ever watch like message certainly partic...</td>\n",
       "    </tr>\n",
       "    <tr>\n",
       "      <th>3</th>\n",
       "      <td>9476</td>\n",
       "      <td>Mary Trujillo</td>\n",
       "      <td>1949-07-02</td>\n",
       "      <td>Hernandez-Jones</td>\n",
       "      <td>True several position name both report or. Wal...</td>\n",
       "    </tr>\n",
       "    <tr>\n",
       "      <th>4</th>\n",
       "      <td>7376</td>\n",
       "      <td>Darin Clay</td>\n",
       "      <td>2002-07-06</td>\n",
       "      <td>Myers, Harris and Montgomery</td>\n",
       "      <td>Past plant thought speech manager. Rise heart ...</td>\n",
       "    </tr>\n",
       "  </tbody>\n",
       "</table>\n",
       "</div>"
      ],
      "text/plain": [
       "   Customer ID              Name Date of Birth        Employment Information  \\\n",
       "0         1161       Ashlee Vega    1933-09-24   Solomon, Spears and Johnson   \n",
       "1         1107  Patrick Williams    1966-05-05               Harris and Sons   \n",
       "2         5352   Ronald Anderson    1960-08-23                    Hall-White   \n",
       "3         9476     Mary Trujillo    1949-07-02               Hernandez-Jones   \n",
       "4         7376        Darin Clay    2002-07-06  Myers, Harris and Montgomery   \n",
       "\n",
       "                                      Notes/Comments  \n",
       "0  System concern public according others today s...  \n",
       "1  Score read available administration fear all. ...  \n",
       "2  Stand ever watch like message certainly partic...  \n",
       "3  True several position name both report or. Wal...  \n",
       "4  Past plant thought speech manager. Rise heart ...  "
      ]
     },
     "execution_count": 30,
     "metadata": {},
     "output_type": "execute_result"
    }
   ],
   "source": [
    "df_customer.head()"
   ]
  },
  {
   "cell_type": "code",
   "execution_count": 31,
   "metadata": {},
   "outputs": [
    {
     "data": {
      "text/html": [
       "<div>\n",
       "<style scoped>\n",
       "    .dataframe tbody tr th:only-of-type {\n",
       "        vertical-align: middle;\n",
       "    }\n",
       "\n",
       "    .dataframe tbody tr th {\n",
       "        vertical-align: top;\n",
       "    }\n",
       "\n",
       "    .dataframe thead th {\n",
       "        text-align: right;\n",
       "    }\n",
       "</style>\n",
       "<table border=\"1\" class=\"dataframe\">\n",
       "  <thead>\n",
       "    <tr style=\"text-align: right;\">\n",
       "      <th></th>\n",
       "      <th>Employee ID</th>\n",
       "      <th>Name</th>\n",
       "      <th>Date of Birth</th>\n",
       "      <th>Employment Start Date</th>\n",
       "      <th>Position/Title</th>\n",
       "      <th>Hourly Wage/Salary</th>\n",
       "      <th>Manager</th>\n",
       "      <th>Notes/Comments</th>\n",
       "    </tr>\n",
       "  </thead>\n",
       "  <tbody>\n",
       "    <tr>\n",
       "      <th>0</th>\n",
       "      <td>4803</td>\n",
       "      <td>Lori Williams</td>\n",
       "      <td>1981-03-04</td>\n",
       "      <td>2021-11-05</td>\n",
       "      <td>Pawnbroker</td>\n",
       "      <td>14.66</td>\n",
       "      <td>Daniel Sparks</td>\n",
       "      <td>Federal decade smile sometimes art learn neces...</td>\n",
       "    </tr>\n",
       "    <tr>\n",
       "      <th>1</th>\n",
       "      <td>7228</td>\n",
       "      <td>Joseph Guerrero</td>\n",
       "      <td>1990-01-18</td>\n",
       "      <td>2023-08-27</td>\n",
       "      <td>Sales Associate</td>\n",
       "      <td>28.32</td>\n",
       "      <td>Betty Arnold</td>\n",
       "      <td>Author purpose could high necessary summer mis...</td>\n",
       "    </tr>\n",
       "    <tr>\n",
       "      <th>2</th>\n",
       "      <td>4753</td>\n",
       "      <td>Rebecca Mckinney</td>\n",
       "      <td>1980-04-13</td>\n",
       "      <td>2022-06-10</td>\n",
       "      <td>Manager</td>\n",
       "      <td>15.65</td>\n",
       "      <td>Crystal Fisher</td>\n",
       "      <td>Maybe where possible very. Smile mind among ta...</td>\n",
       "    </tr>\n",
       "    <tr>\n",
       "      <th>3</th>\n",
       "      <td>9051</td>\n",
       "      <td>Samuel Salinas</td>\n",
       "      <td>1978-03-13</td>\n",
       "      <td>2020-10-31</td>\n",
       "      <td>Pawnbroker</td>\n",
       "      <td>13.32</td>\n",
       "      <td>David Carney</td>\n",
       "      <td>Wide field black another media response either...</td>\n",
       "    </tr>\n",
       "    <tr>\n",
       "      <th>4</th>\n",
       "      <td>1925</td>\n",
       "      <td>Richard Baird</td>\n",
       "      <td>2005-05-31</td>\n",
       "      <td>2020-06-14</td>\n",
       "      <td>Pawnbroker</td>\n",
       "      <td>25.55</td>\n",
       "      <td>Kristen Henderson</td>\n",
       "      <td>Thought add level because police wall. Image w...</td>\n",
       "    </tr>\n",
       "  </tbody>\n",
       "</table>\n",
       "</div>"
      ],
      "text/plain": [
       "   Employee ID              Name Date of Birth Employment Start Date  \\\n",
       "0         4803     Lori Williams    1981-03-04            2021-11-05   \n",
       "1         7228   Joseph Guerrero    1990-01-18            2023-08-27   \n",
       "2         4753  Rebecca Mckinney    1980-04-13            2022-06-10   \n",
       "3         9051    Samuel Salinas    1978-03-13            2020-10-31   \n",
       "4         1925     Richard Baird    2005-05-31            2020-06-14   \n",
       "\n",
       "    Position/Title  Hourly Wage/Salary            Manager  \\\n",
       "0       Pawnbroker               14.66      Daniel Sparks   \n",
       "1  Sales Associate               28.32       Betty Arnold   \n",
       "2          Manager               15.65     Crystal Fisher   \n",
       "3       Pawnbroker               13.32       David Carney   \n",
       "4       Pawnbroker               25.55  Kristen Henderson   \n",
       "\n",
       "                                      Notes/Comments  \n",
       "0  Federal decade smile sometimes art learn neces...  \n",
       "1  Author purpose could high necessary summer mis...  \n",
       "2  Maybe where possible very. Smile mind among ta...  \n",
       "3  Wide field black another media response either...  \n",
       "4  Thought add level because police wall. Image w...  "
      ]
     },
     "execution_count": 31,
     "metadata": {},
     "output_type": "execute_result"
    }
   ],
   "source": [
    "df_employee.head()"
   ]
  },
  {
   "cell_type": "code",
   "execution_count": 32,
   "metadata": {},
   "outputs": [
    {
     "data": {
      "text/html": [
       "<div>\n",
       "<style scoped>\n",
       "    .dataframe tbody tr th:only-of-type {\n",
       "        vertical-align: middle;\n",
       "    }\n",
       "\n",
       "    .dataframe tbody tr th {\n",
       "        vertical-align: top;\n",
       "    }\n",
       "\n",
       "    .dataframe thead th {\n",
       "        text-align: right;\n",
       "    }\n",
       "</style>\n",
       "<table border=\"1\" class=\"dataframe\">\n",
       "  <thead>\n",
       "    <tr style=\"text-align: right;\">\n",
       "      <th></th>\n",
       "      <th>Item ID</th>\n",
       "      <th>Description</th>\n",
       "      <th>Category</th>\n",
       "      <th>Brand</th>\n",
       "      <th>Model</th>\n",
       "      <th>Condition</th>\n",
       "      <th>Original Purchase Price</th>\n",
       "      <th>Pawned/Sold Price</th>\n",
       "      <th>Date Pawned/Sold</th>\n",
       "      <th>Pawn Ticket/Receipt Number</th>\n",
       "      <th>Appraised Value</th>\n",
       "      <th>Comments/Notes</th>\n",
       "    </tr>\n",
       "  </thead>\n",
       "  <tbody>\n",
       "    <tr>\n",
       "      <th>0</th>\n",
       "      <td>6737</td>\n",
       "      <td>agency music</td>\n",
       "      <td>Electronics</td>\n",
       "      <td>Farmer-Brewer</td>\n",
       "      <td>already</td>\n",
       "      <td>Refurbished</td>\n",
       "      <td>874.82</td>\n",
       "      <td>30.42</td>\n",
       "      <td>2023-10-15</td>\n",
       "      <td>PT8538193966</td>\n",
       "      <td>97.69</td>\n",
       "      <td>Inside popular finish her treat less. Brother ...</td>\n",
       "    </tr>\n",
       "    <tr>\n",
       "      <th>1</th>\n",
       "      <td>1915</td>\n",
       "      <td>thing hard</td>\n",
       "      <td>Collectibles</td>\n",
       "      <td>Villarreal LLC</td>\n",
       "      <td>audience</td>\n",
       "      <td>New</td>\n",
       "      <td>506.41</td>\n",
       "      <td>186.86</td>\n",
       "      <td>2023-06-06</td>\n",
       "      <td>PT4265929063</td>\n",
       "      <td>603.36</td>\n",
       "      <td>Project when investment fast program draw cand...</td>\n",
       "    </tr>\n",
       "    <tr>\n",
       "      <th>2</th>\n",
       "      <td>2206</td>\n",
       "      <td>spend car</td>\n",
       "      <td>Musical Instruments</td>\n",
       "      <td>Smith-Myers</td>\n",
       "      <td>understand</td>\n",
       "      <td>New</td>\n",
       "      <td>895.17</td>\n",
       "      <td>83.55</td>\n",
       "      <td>2024-02-20</td>\n",
       "      <td>PT1649977269</td>\n",
       "      <td>278.66</td>\n",
       "      <td>Gun believe speech assume. Country friend deve...</td>\n",
       "    </tr>\n",
       "    <tr>\n",
       "      <th>3</th>\n",
       "      <td>7567</td>\n",
       "      <td>because opportunity</td>\n",
       "      <td>Musical Instruments</td>\n",
       "      <td>Petty, Rodriguez and Coleman</td>\n",
       "      <td>along</td>\n",
       "      <td>Refurbished</td>\n",
       "      <td>596.27</td>\n",
       "      <td>169.60</td>\n",
       "      <td>2024-04-14</td>\n",
       "      <td>PT9845158377</td>\n",
       "      <td>955.17</td>\n",
       "      <td>Forward best ready issue. Ago bar site notice ...</td>\n",
       "    </tr>\n",
       "    <tr>\n",
       "      <th>4</th>\n",
       "      <td>5731</td>\n",
       "      <td>charge future</td>\n",
       "      <td>Jewelry</td>\n",
       "      <td>Williams, Bell and Marshall</td>\n",
       "      <td>than</td>\n",
       "      <td>New</td>\n",
       "      <td>859.94</td>\n",
       "      <td>120.46</td>\n",
       "      <td>2024-02-29</td>\n",
       "      <td>PT2001528697</td>\n",
       "      <td>224.50</td>\n",
       "      <td>Pull nice professional baby first and. Finally...</td>\n",
       "    </tr>\n",
       "  </tbody>\n",
       "</table>\n",
       "</div>"
      ],
      "text/plain": [
       "   Item ID          Description             Category  \\\n",
       "0     6737         agency music          Electronics   \n",
       "1     1915           thing hard         Collectibles   \n",
       "2     2206            spend car  Musical Instruments   \n",
       "3     7567  because opportunity  Musical Instruments   \n",
       "4     5731        charge future              Jewelry   \n",
       "\n",
       "                          Brand       Model    Condition  \\\n",
       "0                 Farmer-Brewer     already  Refurbished   \n",
       "1                Villarreal LLC    audience          New   \n",
       "2                   Smith-Myers  understand          New   \n",
       "3  Petty, Rodriguez and Coleman       along  Refurbished   \n",
       "4   Williams, Bell and Marshall        than          New   \n",
       "\n",
       "   Original Purchase Price  Pawned/Sold Price Date Pawned/Sold  \\\n",
       "0                   874.82              30.42       2023-10-15   \n",
       "1                   506.41             186.86       2023-06-06   \n",
       "2                   895.17              83.55       2024-02-20   \n",
       "3                   596.27             169.60       2024-04-14   \n",
       "4                   859.94             120.46       2024-02-29   \n",
       "\n",
       "  Pawn Ticket/Receipt Number  Appraised Value  \\\n",
       "0               PT8538193966            97.69   \n",
       "1               PT4265929063           603.36   \n",
       "2               PT1649977269           278.66   \n",
       "3               PT9845158377           955.17   \n",
       "4               PT2001528697           224.50   \n",
       "\n",
       "                                      Comments/Notes  \n",
       "0  Inside popular finish her treat less. Brother ...  \n",
       "1  Project when investment fast program draw cand...  \n",
       "2  Gun believe speech assume. Country friend deve...  \n",
       "3  Forward best ready issue. Ago bar site notice ...  \n",
       "4  Pull nice professional baby first and. Finally...  "
      ]
     },
     "execution_count": 32,
     "metadata": {},
     "output_type": "execute_result"
    }
   ],
   "source": [
    "df_item.head()"
   ]
  },
  {
   "cell_type": "code",
   "execution_count": 33,
   "metadata": {},
   "outputs": [
    {
     "data": {
      "text/html": [
       "<div>\n",
       "<style scoped>\n",
       "    .dataframe tbody tr th:only-of-type {\n",
       "        vertical-align: middle;\n",
       "    }\n",
       "\n",
       "    .dataframe tbody tr th {\n",
       "        vertical-align: top;\n",
       "    }\n",
       "\n",
       "    .dataframe thead th {\n",
       "        text-align: right;\n",
       "    }\n",
       "</style>\n",
       "<table border=\"1\" class=\"dataframe\">\n",
       "  <thead>\n",
       "    <tr style=\"text-align: right;\">\n",
       "      <th></th>\n",
       "      <th>Transaction ID</th>\n",
       "      <th>Customer ID</th>\n",
       "      <th>Item ID(s)</th>\n",
       "      <th>Transaction Type</th>\n",
       "      <th>Transaction Date/Time</th>\n",
       "      <th>Total Transaction Amount</th>\n",
       "      <th>Payment Method</th>\n",
       "      <th>Employee ID</th>\n",
       "      <th>Comments/Notes</th>\n",
       "    </tr>\n",
       "  </thead>\n",
       "  <tbody>\n",
       "    <tr>\n",
       "      <th>0</th>\n",
       "      <td>4637</td>\n",
       "      <td>4714</td>\n",
       "      <td>7175</td>\n",
       "      <td>Buy</td>\n",
       "      <td>2021-05-29 02:43:45</td>\n",
       "      <td>931.90</td>\n",
       "      <td>Cash</td>\n",
       "      <td>4953</td>\n",
       "      <td>Know since after final as hour thing. Reveal d...</td>\n",
       "    </tr>\n",
       "    <tr>\n",
       "      <th>1</th>\n",
       "      <td>9328</td>\n",
       "      <td>9766</td>\n",
       "      <td>9508</td>\n",
       "      <td>Pawn</td>\n",
       "      <td>2021-10-07 04:12:01</td>\n",
       "      <td>459.01</td>\n",
       "      <td>Cash</td>\n",
       "      <td>4542</td>\n",
       "      <td>Oil why man space bring inside.\\nSubject at th...</td>\n",
       "    </tr>\n",
       "    <tr>\n",
       "      <th>2</th>\n",
       "      <td>922</td>\n",
       "      <td>8424</td>\n",
       "      <td>4411</td>\n",
       "      <td>Pawn</td>\n",
       "      <td>2020-01-04 00:34:40</td>\n",
       "      <td>115.16</td>\n",
       "      <td>Debit Card</td>\n",
       "      <td>584</td>\n",
       "      <td>Father person mother reach. Apply six over sea...</td>\n",
       "    </tr>\n",
       "    <tr>\n",
       "      <th>3</th>\n",
       "      <td>7230</td>\n",
       "      <td>4731</td>\n",
       "      <td>7229</td>\n",
       "      <td>Pawn</td>\n",
       "      <td>2021-04-17 16:19:54</td>\n",
       "      <td>516.08</td>\n",
       "      <td>Cash</td>\n",
       "      <td>9332</td>\n",
       "      <td>Then bed tough hospital gas early.\\nJust child...</td>\n",
       "    </tr>\n",
       "    <tr>\n",
       "      <th>4</th>\n",
       "      <td>7598</td>\n",
       "      <td>4775</td>\n",
       "      <td>4006</td>\n",
       "      <td>Redeem</td>\n",
       "      <td>2020-07-11 20:49:14</td>\n",
       "      <td>199.19</td>\n",
       "      <td>Credit Card</td>\n",
       "      <td>6613</td>\n",
       "      <td>Air he discussion American attorney audience. ...</td>\n",
       "    </tr>\n",
       "  </tbody>\n",
       "</table>\n",
       "</div>"
      ],
      "text/plain": [
       "   Transaction ID  Customer ID  Item ID(s) Transaction Type  \\\n",
       "0            4637         4714        7175              Buy   \n",
       "1            9328         9766        9508             Pawn   \n",
       "2             922         8424        4411             Pawn   \n",
       "3            7230         4731        7229             Pawn   \n",
       "4            7598         4775        4006           Redeem   \n",
       "\n",
       "  Transaction Date/Time  Total Transaction Amount Payment Method  Employee ID  \\\n",
       "0   2021-05-29 02:43:45                    931.90           Cash         4953   \n",
       "1   2021-10-07 04:12:01                    459.01           Cash         4542   \n",
       "2   2020-01-04 00:34:40                    115.16     Debit Card          584   \n",
       "3   2021-04-17 16:19:54                    516.08           Cash         9332   \n",
       "4   2020-07-11 20:49:14                    199.19    Credit Card         6613   \n",
       "\n",
       "                                      Comments/Notes  \n",
       "0  Know since after final as hour thing. Reveal d...  \n",
       "1  Oil why man space bring inside.\\nSubject at th...  \n",
       "2  Father person mother reach. Apply six over sea...  \n",
       "3  Then bed tough hospital gas early.\\nJust child...  \n",
       "4  Air he discussion American attorney audience. ...  "
      ]
     },
     "execution_count": 33,
     "metadata": {},
     "output_type": "execute_result"
    }
   ],
   "source": [
    "df_transaction.head()"
   ]
  },
  {
   "cell_type": "markdown",
   "metadata": {},
   "source": [
    "#### Employee Dataframe"
   ]
  },
  {
   "cell_type": "code",
   "execution_count": 35,
   "metadata": {},
   "outputs": [
    {
     "data": {
      "text/plain": [
       "Employee ID               959\n",
       "Name                      994\n",
       "Date of Birth             977\n",
       "Employment Start Date     745\n",
       "Position/Title              3\n",
       "Hourly Wage/Salary        771\n",
       "Manager                   993\n",
       "Notes/Comments           1000\n",
       "dtype: int64"
      ]
     },
     "execution_count": 35,
     "metadata": {},
     "output_type": "execute_result"
    }
   ],
   "source": [
    "df_employee.nunique()"
   ]
  },
  {
   "cell_type": "code",
   "execution_count": 36,
   "metadata": {},
   "outputs": [
    {
     "data": {
      "text/plain": [
       "Employee ID              0\n",
       "Name                     0\n",
       "Date of Birth            0\n",
       "Employment Start Date    0\n",
       "Position/Title           0\n",
       "Hourly Wage/Salary       0\n",
       "Manager                  0\n",
       "Notes/Comments           0\n",
       "dtype: int64"
      ]
     },
     "execution_count": 36,
     "metadata": {},
     "output_type": "execute_result"
    }
   ],
   "source": [
    "df_employee.isnull().sum()"
   ]
  },
  {
   "cell_type": "code",
   "execution_count": 39,
   "metadata": {},
   "outputs": [
    {
     "data": {
      "text/plain": [
       "41"
      ]
     },
     "execution_count": 39,
     "metadata": {},
     "output_type": "execute_result"
    }
   ],
   "source": [
    "df_employee['Employee ID'].duplicated().sum()"
   ]
  },
  {
   "cell_type": "markdown",
   "metadata": {},
   "source": [
    "#### Item Dataframe"
   ]
  },
  {
   "cell_type": "code",
   "execution_count": 40,
   "metadata": {},
   "outputs": [
    {
     "data": {
      "text/plain": [
       "Item ID                       0\n",
       "Description                   0\n",
       "Category                      0\n",
       "Brand                         0\n",
       "Model                         0\n",
       "Condition                     0\n",
       "Original Purchase Price       0\n",
       "Pawned/Sold Price             0\n",
       "Date Pawned/Sold              0\n",
       "Pawn Ticket/Receipt Number    0\n",
       "Appraised Value               0\n",
       "Comments/Notes                0\n",
       "dtype: int64"
      ]
     },
     "execution_count": 40,
     "metadata": {},
     "output_type": "execute_result"
    }
   ],
   "source": [
    "df_item.isnull().sum()"
   ]
  },
  {
   "cell_type": "code",
   "execution_count": 41,
   "metadata": {},
   "outputs": [
    {
     "data": {
      "text/plain": [
       "Item ID                        955\n",
       "Description                    998\n",
       "Category                         5\n",
       "Brand                          961\n",
       "Model                          631\n",
       "Condition                        3\n",
       "Original Purchase Price        995\n",
       "Pawned/Sold Price              993\n",
       "Date Pawned/Sold               350\n",
       "Pawn Ticket/Receipt Number    1000\n",
       "Appraised Value                996\n",
       "Comments/Notes                1000\n",
       "dtype: int64"
      ]
     },
     "execution_count": 41,
     "metadata": {},
     "output_type": "execute_result"
    }
   ],
   "source": [
    "df_item.nunique()"
   ]
  },
  {
   "cell_type": "markdown",
   "metadata": {},
   "source": [
    "Drop duplicated ited ID datarow"
   ]
  },
  {
   "cell_type": "markdown",
   "metadata": {},
   "source": [
    "#### Transaction Dataframe"
   ]
  },
  {
   "cell_type": "code",
   "execution_count": 43,
   "metadata": {},
   "outputs": [
    {
     "data": {
      "text/plain": [
       "Transaction ID               959\n",
       "Customer ID                  957\n",
       "Item ID(s)                   951\n",
       "Transaction Type               4\n",
       "Transaction Date/Time       1000\n",
       "Total Transaction Amount     994\n",
       "Payment Method                 3\n",
       "Employee ID                  932\n",
       "Comments/Notes              1000\n",
       "dtype: int64"
      ]
     },
     "execution_count": 43,
     "metadata": {},
     "output_type": "execute_result"
    }
   ],
   "source": [
    "df_transaction.nunique()"
   ]
  },
  {
   "cell_type": "code",
   "execution_count": 44,
   "metadata": {},
   "outputs": [
    {
     "data": {
      "text/plain": [
       "Transaction ID              0\n",
       "Customer ID                 0\n",
       "Item ID(s)                  0\n",
       "Transaction Type            0\n",
       "Transaction Date/Time       0\n",
       "Total Transaction Amount    0\n",
       "Payment Method              0\n",
       "Employee ID                 0\n",
       "Comments/Notes              0\n",
       "dtype: int64"
      ]
     },
     "execution_count": 44,
     "metadata": {},
     "output_type": "execute_result"
    }
   ],
   "source": [
    "df_transaction.isnull().sum()"
   ]
  },
  {
   "cell_type": "markdown",
   "metadata": {},
   "source": [
    "Pada tahapan ini data langsung divisualisasikan, tanpa preprocessing, sebab data terlalu artificial dan tidak dapat diambil insight yang bermakna."
   ]
  }
 ],
 "metadata": {
  "kernelspec": {
   "display_name": "base",
   "language": "python",
   "name": "python3"
  },
  "language_info": {
   "codemirror_mode": {
    "name": "ipython",
    "version": 3
   },
   "file_extension": ".py",
   "mimetype": "text/x-python",
   "name": "python",
   "nbconvert_exporter": "python",
   "pygments_lexer": "ipython3",
   "version": "3.11.5"
  }
 },
 "nbformat": 4,
 "nbformat_minor": 2
}
